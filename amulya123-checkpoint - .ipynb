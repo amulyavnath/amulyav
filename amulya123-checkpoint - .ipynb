{
 "cells": [
  {
   "cell_type": "code",
   "execution_count": 2,
   "id": "c0e41e55",
   "metadata": {},
   "outputs": [],
   "source": [
    "import pandas as pd\n",
    "import numpy as np"
   ]
  },
  {
   "cell_type": "code",
   "execution_count": 3,
   "id": "73bc51d9",
   "metadata": {},
   "outputs": [],
   "source": [
    "data=pd.read_csv(\"play.csv\")"
   ]
  },
  {
   "cell_type": "code",
   "execution_count": 4,
   "id": "fef4b2f8",
   "metadata": {},
   "outputs": [
    {
     "name": "stdout",
     "output_type": "stream",
     "text": [
      "     sky airtemp humidity    wind water forecast enjoy\n",
      "0  sunny    warm   normal  strong  warm     same   yes\n",
      "1  sunny    warm     high  strong  warm     same   yes\n",
      "2  rainy    cold     high  strong  warm   change    no\n",
      "3  sunny    warm     high  strong  cool   change   yes\n"
     ]
    }
   ],
   "source": [
    "print(data)"
   ]
  },
  {
   "cell_type": "code",
   "execution_count": 5,
   "id": "76ea392c",
   "metadata": {},
   "outputs": [
    {
     "data": {
      "text/plain": [
       "array([['sunny', 'warm', 'normal', 'strong', 'warm', 'same'],\n",
       "       ['sunny', 'warm', 'high', 'strong', 'warm', 'same'],\n",
       "       ['rainy', 'cold', 'high', 'strong', 'warm', 'change'],\n",
       "       ['sunny', 'warm', 'high', 'strong', 'cool', 'change']],\n",
       "      dtype=object)"
      ]
     },
     "execution_count": 5,
     "metadata": {},
     "output_type": "execute_result"
    }
   ],
   "source": [
    "conc=np.array(data)[:,:-1]\n",
    "conc"
   ]
  },
  {
   "cell_type": "code",
   "execution_count": 7,
   "id": "08c2f45c",
   "metadata": {},
   "outputs": [
    {
     "data": {
      "text/plain": [
       "array([['yes'],\n",
       "       ['yes'],\n",
       "       ['no'],\n",
       "       ['yes']], dtype=object)"
      ]
     },
     "execution_count": 7,
     "metadata": {},
     "output_type": "execute_result"
    }
   ],
   "source": [
    "tar=np.array(data)[0:5,-1:]\n",
    "tar"
   ]
  },
  {
   "cell_type": "code",
   "execution_count": 16,
   "id": "655863d1",
   "metadata": {},
   "outputs": [],
   "source": [
    "def finds(tar,conc):\n",
    "    for i,val in enumerate(tar):\n",
    "        if val=='yes':\n",
    "            spec=conc[i].copy()\n",
    "            break\n",
    "    for i,val in enumerate(conc):\n",
    "        if tar[i]=='yes':\n",
    "            for x in range(len(spec)):\n",
    "                if val[x]!=spec[x]:\n",
    "                    spec[x]='?'\n",
    "                else:\n",
    "                    pass\n",
    "        print('the minimally specific hypothesis is')\n",
    "        print(spec)\n",
    "               "
   ]
  },
  {
   "cell_type": "code",
   "execution_count": 17,
   "id": "08bc1888",
   "metadata": {},
   "outputs": [
    {
     "name": "stdout",
     "output_type": "stream",
     "text": [
      "the minimally specific hypothesis is\n",
      "['sunny' 'warm' 'normal' 'strong' 'warm' 'same']\n",
      "the minimally specific hypothesis is\n",
      "['sunny' 'warm' '?' 'strong' 'warm' 'same']\n",
      "the minimally specific hypothesis is\n",
      "['sunny' 'warm' '?' 'strong' 'warm' 'same']\n",
      "the minimally specific hypothesis is\n",
      "['sunny' 'warm' '?' 'strong' '?' '?']\n",
      "None\n"
     ]
    }
   ],
   "source": [
    "print(finds(tar,conc))"
   ]
  },
  {
   "cell_type": "code",
   "execution_count": null,
   "id": "28656609",
   "metadata": {},
   "outputs": [],
   "source": []
  },
  {
   "cell_type": "code",
   "execution_count": null,
   "id": "7539efc6",
   "metadata": {},
   "outputs": [],
   "source": []
  },
  {
   "cell_type": "code",
   "execution_count": null,
   "id": "798ee1a5",
   "metadata": {},
   "outputs": [],
   "source": []
  },
  {
   "cell_type": "code",
   "execution_count": null,
   "id": "7061075b",
   "metadata": {},
   "outputs": [],
   "source": []
  },
  {
   "cell_type": "code",
   "execution_count": null,
   "id": "def8763c",
   "metadata": {},
   "outputs": [],
   "source": []
  },
  {
   "cell_type": "code",
   "execution_count": null,
   "id": "db778efb",
   "metadata": {},
   "outputs": [],
   "source": []
  }
 ],
 "metadata": {
  "kernelspec": {
   "display_name": "Python 3 (ipykernel)",
   "language": "python",
   "name": "python3"
  },
  "language_info": {
   "codemirror_mode": {
    "name": "ipython",
    "version": 3
   },
   "file_extension": ".py",
   "mimetype": "text/x-python",
   "name": "python",
   "nbconvert_exporter": "python",
   "pygments_lexer": "ipython3",
   "version": "3.9.7"
  }
 },
 "nbformat": 4,
 "nbformat_minor": 5
}
